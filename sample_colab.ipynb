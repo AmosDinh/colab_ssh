{
 "cells": [
  {
   "attachments": {},
   "cell_type": "markdown",
   "metadata": {},
   "source": [
    "### Colab should look like this "
   ]
  },
  {
   "cell_type": "code",
   "execution_count": null,
   "metadata": {},
   "outputs": [],
   "source": [
    "from google.colab import drive\n",
    "drive.mount('/content/gdrive/')\n",
    "\n",
    "!git clone https://github.com/AmosDinh/BikePricePredict.git /code # note the /code at the end for VS Code remote extention to automatically open\n",
    "!pip install git+https://github.com/AmosDinh/colab_ssh.git\n",
    "\n",
    "from colab_ssh import setup_ssh, loop_forever\n",
    "\n",
    "public_key = 'ssh-rsa AAAAB3NzaC1yc2EAAAADAQABAAABgQDUI8KfQfp/aIcydyUB7d14vkz+nlCbPSsYBhZWquwP+r8ONreK5qzmzhXh1APAn2Pwpw52u3mTK5QZoSFLY+tZUETgAbXnh/8dch6crtn3iY5C6vklAQVscqgh6IKbFDSXMLv3pp3iYZzr65a+9WITQBUJrZpEIRu6aYSk8DYHK1rHR1WgfFCtYC9KQr+tb0nYeLDCX+wpT4q6v3xLLbmNPP2GMYbDqXsySmYdWStIz4n46BfvHzChnMhUEBxjDqTkcTPXVTMv1tJKbJ6fWh6E9DpWLIn0vkyGNrhhxH3YeIHCucNM0oXBR0vO6YhKfW8VAAsekK4UPaG5ybrIvcEauZSaQl5vSQoL7GpNe2WDdIEg7wQHkKWniXVT0B7+uN6f0v1LbPivNyzbXtENnEMWwjXOPymtBcREyy9GdlpECvy8+0lEjaEl7WZ9cczG44Y1lH4STdBXLwkHgLQTB/BKKbWKDnJN2UWqRYhW35vTppJlYc8xcSqiTRcMen4mIYM= amos@DESKTOP-L8IBTQF'\n",
    "setup_ssh(public_key)\n",
    "loop_forever()"
   ]
  }
 ],
 "metadata": {
  "kernelspec": {
   "display_name": "Python 3",
   "language": "python",
   "name": "python3"
  },
  "language_info": {
   "name": "python",
   "version": "3.11.3"
  },
  "orig_nbformat": 4
 },
 "nbformat": 4,
 "nbformat_minor": 2
}
